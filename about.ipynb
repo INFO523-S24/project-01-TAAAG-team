{
  "cells": [
    {
      "cell_type": "raw",
      "metadata": {},
      "source": [
        "---\n",
        "title: About\n",
        "format: html\n",
        "editor: visual\n",
        "---"
      ],
      "id": "53435220"
    },
    {
      "cell_type": "markdown",
      "metadata": {},
      "source": [
        "This project was developed by **\\[TAAAG Team\\]** For [INFO 523 - Data Mining and Discovery](https://datamineaz.org/) at the University of Arizona, taught by Dr. Greg Chism. The team is comprised of the following team members.\n",
        "\n",
        "-   Tejas Bhawari: First-year, MS in Data Science, RPA Developer.\n",
        "\n",
        "-   Gabriel Geffen: First-year Ph.D. student in civil engineering with an emphasis in traffic engineering.\n",
        "\n",
        "-   Ayesha Khatun: First-year Ph.D. Student, Information Science (Research Area: Natural Language Processing), School of Information.\n",
        "\n",
        "-   Alyssa Nether: A nondegree seeking graduate student exploring the realm of data science hoping to apply for the program in the future.\n",
        "\n",
        "-   Akash Srinivasan: First-year , MS in Data Science, Graduate Research Assistant School of Medicine, UA-Phoenix"
      ],
      "id": "8667481f"
    }
  ],
  "metadata": {
    "kernelspec": {
      "name": "python3",
      "language": "python",
      "display_name": "Python 3 (ipykernel)"
    }
  },
  "nbformat": 4,
  "nbformat_minor": 5
}